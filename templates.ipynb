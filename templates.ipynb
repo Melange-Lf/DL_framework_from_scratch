{
 "cells": [
  {
   "cell_type": "code",
   "execution_count": null,
   "metadata": {
    "vscode": {
     "languageId": "plaintext"
    }
   },
   "outputs": [],
   "source": [
    "class TempLayer():\n",
    "    def __init__(self, input_dim, output_dim):\n",
    "        pass\n",
    "    def build(self, prev_ouputs):\n",
    "        return outputs\n",
    "    def forward(self, X):\n",
    "\n",
    "        self.cache = {}\n",
    "        return output\n",
    "    def backward(self, activation_derivatives, lr):\n",
    "        cache = self.cache\n",
    "        return prev_layer_activ_deri"
   ]
  },
  {
   "cell_type": "code",
   "execution_count": null,
   "metadata": {
    "vscode": {
     "languageId": "plaintext"
    }
   },
   "outputs": [],
   "source": [
    "def TempLoss(Y_true, Y_pred):\n",
    "    return scalar_loss, d_loss_by_d_Y_pred"
   ]
  },
  {
   "cell_type": "code",
   "execution_count": null,
   "metadata": {
    "vscode": {
     "languageId": "plaintext"
    }
   },
   "outputs": [],
   "source": [
    "def TempMetric(Y_true, Y_pred):\n",
    "    return metric"
   ]
  }
 ],
 "metadata": {
  "language_info": {
   "name": "python"
  }
 },
 "nbformat": 4,
 "nbformat_minor": 2
}
