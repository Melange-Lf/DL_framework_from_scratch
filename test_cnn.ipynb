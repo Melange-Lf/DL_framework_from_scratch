{
 "cells": [
  {
   "cell_type": "code",
   "execution_count": 1,
   "id": "07e94082",
   "metadata": {},
   "outputs": [],
   "source": [
    "import numpy as np\n",
    "from model import Model\n",
    "import func\n",
    "from layers import Linear, Sigmoid, ReLU, Conv2D, Flatten, LazyLinear\n",
    "# import torch\n",
    "# from torch import nn"
   ]
  },
  {
   "cell_type": "code",
   "execution_count": 2,
   "id": "94574cca",
   "metadata": {},
   "outputs": [],
   "source": [
    "def to_one_hot_vector(labels, low, high):\n",
    "    labels = np.asarray(labels).flatten()\n",
    "    num_classes = high - low + 1\n",
    "\n",
    "    if np.any((labels < low) | (labels > high)):\n",
    "        raise ValueError(\"Some labels are outside the specified (low, high) range.\")\n",
    "\n",
    "    one_hot = np.eye(num_classes)[labels - low]\n",
    "    return one_hot"
   ]
  },
  {
   "cell_type": "code",
   "execution_count": 3,
   "id": "aa5c4fc1",
   "metadata": {},
   "outputs": [
    {
     "name": "stdout",
     "output_type": "stream",
     "text": [
      "(1, 28, 28)\n",
      "(16, 24, 24)\n",
      "(16, 24, 24)\n",
      "(16, 20, 20)\n",
      "(16, 20, 20)\n",
      "(32, 18, 18)\n",
      "(32, 18, 18)\n",
      "(64, 16, 16)\n",
      "(64, 16, 16)\n",
      "(64, 14, 14)\n",
      "(64, 14, 14)\n",
      "12544\n",
      "128\n",
      "128\n",
      "64\n",
      "64\n",
      "10\n"
     ]
    }
   ],
   "source": [
    "# model = Model([Linear(28*28, 64), Sigmoid(64, 64), Linear(64, 32), Sigmoid(32, 32), Linear(32, 16), Sigmoid(16, 16), Linear(16, 10)])\n",
    "# model = Model([Linear(28*28, 64), ReLU(64, 64), Linear(64, 32), ReLU(32, 32), Linear(32, 16), ReLU(16, 16), Linear(16, 10)])\n",
    "model = Model([\n",
    "    Conv2D(5, 16, \"Valid\", (1, 28, 28)),\n",
    "    ReLU(),\n",
    "    Conv2D(5, 16, \"Valid\",),\n",
    "    ReLU(),\n",
    "    Conv2D(3, 32, \"Valid\"),\n",
    "    ReLU(),\n",
    "    Conv2D(3, 64, \"valid\"),\n",
    "    ReLU(),\n",
    "    Conv2D(3, 64, \"valid\"),\n",
    "    ReLU(),\n",
    "    Flatten(),\n",
    "    LazyLinear(128),\n",
    "    ReLU(),\n",
    "    Linear(128, 64),\n",
    "    ReLU(),\n",
    "    Linear(64, 10)\n",
    "], show_dims=True)\n",
    "acc = lambda log, lab: np.mean(np.argmax(log, axis=1) == np.argmax(lab, axis=1))"
   ]
  },
  {
   "cell_type": "code",
   "execution_count": 4,
   "id": "0b69c9df",
   "metadata": {},
   "outputs": [],
   "source": [
    "model.compile(0.001, func.cross_entropy_loss, acc)"
   ]
  },
  {
   "cell_type": "code",
   "execution_count": 5,
   "id": "f96bd93f",
   "metadata": {},
   "outputs": [],
   "source": [
    "tr_fname = \"MNIST_CSV/mnist_train.csv\"\n",
    "ts_fname = \"MNIST_CSV/mnist_test.csv\"\n",
    "\n",
    "train_data = np.loadtxt(tr_fname, delimiter=',')\n",
    "train_labels = to_one_hot_vector(train_data[:, 0].astype(int), low=0, high=9)\n",
    "train_images = train_data[:, 1:].reshape(-1, 1, 28, 28)\n",
    "\n",
    "test_data = np.loadtxt(ts_fname, delimiter=',')\n",
    "test_labels = to_one_hot_vector(test_data[:, 0].astype(int), 0, 9)\n",
    "test_images = test_data[:, 1:].reshape(-1, 1, 28, 28)"
   ]
  },
  {
   "cell_type": "code",
   "execution_count": 6,
   "id": "cbf41ca6",
   "metadata": {},
   "outputs": [
    {
     "name": "stdout",
     "output_type": "stream",
     "text": [
      "\n",
      "batch_loss: 16.791269127363712, batch_metric: 0.0625, batch: 1/938, epoch: 0\n",
      "\n",
      "batch_loss: 7.247388705995635, batch_metric: 0.125, batch: 94/938, epoch: 0\n",
      "\n",
      "batch_loss: 5.001718608169915, batch_metric: 0.203125, batch: 187/938, epoch: 0\n",
      "\n",
      "batch_loss: 3.3983971734073632, batch_metric: 0.21875, batch: 280/938, epoch: 0\n",
      "\n",
      "batch_loss: 2.7424143345810643, batch_metric: 0.328125, batch: 373/938, epoch: 0\n",
      "\n",
      "batch_loss: 2.6556390828207403, batch_metric: 0.34375, batch: 466/938, epoch: 0\n",
      "\n",
      "batch_loss: 2.6911901445198523, batch_metric: 0.296875, batch: 559/938, epoch: 0\n",
      "\n",
      "batch_loss: 2.4044278816999087, batch_metric: 0.3125, batch: 652/938, epoch: 0\n",
      "\n",
      "batch_loss: 2.242033807885293, batch_metric: 0.40625, batch: 745/938, epoch: 0\n",
      "\n",
      "batch_loss: 2.2291698107562716, batch_metric: 0.40625, batch: 838/938, epoch: 0\n",
      "\n",
      "batch_loss: 2.346795614744177, batch_metric: 0.375, batch: 931/938, epoch: 0\n",
      "\n",
      "\n",
      "========================epoch_loss: 3.6549819602484073, epoch_metric: 0.2980410447761194, epoch: 0\n",
      "\n",
      "\n",
      "\n",
      "batch_loss: 2.035510370889597, batch_metric: 0.40625, batch: 1/938, epoch: 1\n",
      "\n",
      "batch_loss: 1.8797467185597903, batch_metric: 0.4375, batch: 94/938, epoch: 1\n",
      "\n",
      "batch_loss: 1.7748941441861252, batch_metric: 0.53125, batch: 187/938, epoch: 1\n",
      "\n",
      "batch_loss: 1.8197838636421384, batch_metric: 0.5, batch: 280/938, epoch: 1\n",
      "\n",
      "batch_loss: 1.4794250703310035, batch_metric: 0.609375, batch: 373/938, epoch: 1\n",
      "\n",
      "batch_loss: 1.6425676923829382, batch_metric: 0.59375, batch: 466/938, epoch: 1\n",
      "\n",
      "batch_loss: 1.5433942987613394, batch_metric: 0.515625, batch: 559/938, epoch: 1\n",
      "\n",
      "batch_loss: 1.4605324147568854, batch_metric: 0.53125, batch: 652/938, epoch: 1\n",
      "\n",
      "batch_loss: 1.9422085649259497, batch_metric: 0.546875, batch: 745/938, epoch: 1\n",
      "\n",
      "batch_loss: 1.572291440900234, batch_metric: 0.53125, batch: 838/938, epoch: 1\n",
      "\n",
      "batch_loss: 1.1550670347457503, batch_metric: 0.5625, batch: 931/938, epoch: 1\n",
      "\n",
      "\n",
      "========================epoch_loss: 1.6173835161294845, epoch_metric: 0.5213219616204691, epoch: 1\n",
      "\n",
      "\n",
      "\n",
      "batch_loss: 1.2188679837110363, batch_metric: 0.703125, batch: 1/938, epoch: 2\n",
      "\n",
      "batch_loss: 1.3290376542190407, batch_metric: 0.609375, batch: 94/938, epoch: 2\n",
      "\n",
      "batch_loss: 0.9453866499569258, batch_metric: 0.71875, batch: 187/938, epoch: 2\n",
      "\n",
      "batch_loss: 0.9176686451983831, batch_metric: 0.625, batch: 280/938, epoch: 2\n",
      "\n",
      "batch_loss: 1.637177680741333, batch_metric: 0.578125, batch: 373/938, epoch: 2\n",
      "\n",
      "batch_loss: 1.1680369578580085, batch_metric: 0.703125, batch: 466/938, epoch: 2\n",
      "\n",
      "batch_loss: 1.2143185092272457, batch_metric: 0.71875, batch: 559/938, epoch: 2\n",
      "\n",
      "batch_loss: 0.798759073731048, batch_metric: 0.75, batch: 652/938, epoch: 2\n",
      "\n",
      "batch_loss: 0.9089056244261049, batch_metric: 0.71875, batch: 745/938, epoch: 2\n",
      "\n",
      "batch_loss: 0.83234186023831, batch_metric: 0.75, batch: 838/938, epoch: 2\n",
      "\n",
      "batch_loss: 1.0805519458716122, batch_metric: 0.65625, batch: 931/938, epoch: 2\n",
      "\n",
      "\n",
      "========================epoch_loss: 1.163051244897011, epoch_metric: 0.6486707089552238, epoch: 2\n",
      "\n",
      "\n"
     ]
    }
   ],
   "source": [
    "model.fit(train_images, train_labels, batch_size=64, epochs= 3, print_period=10)"
   ]
  },
  {
   "cell_type": "code",
   "execution_count": null,
   "id": "eb7c6fc9",
   "metadata": {},
   "outputs": [],
   "source": []
  }
 ],
 "metadata": {
  "kernelspec": {
   "display_name": ".venv",
   "language": "python",
   "name": "python3"
  },
  "language_info": {
   "codemirror_mode": {
    "name": "ipython",
    "version": 3
   },
   "file_extension": ".py",
   "mimetype": "text/x-python",
   "name": "python",
   "nbconvert_exporter": "python",
   "pygments_lexer": "ipython3",
   "version": "3.11.9"
  }
 },
 "nbformat": 4,
 "nbformat_minor": 5
}
