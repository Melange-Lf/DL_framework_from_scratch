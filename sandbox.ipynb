{
 "cells": [
  {
   "cell_type": "code",
   "execution_count": null,
   "metadata": {
    "vscode": {
     "languageId": "plaintext"
    }
   },
   "outputs": [],
   "source": [
    "from IPython.display import clear_output\n",
    "import numpy\n",
    "\n",
    "clear_output()\n",
    "print(\"ja\")"
   ]
  },
  {
   "cell_type": "code",
   "execution_count": null,
   "metadata": {
    "vscode": {
     "languageId": "plaintext"
    }
   },
   "outputs": [],
   "source": [
    "# GENERATING ARRAYS\n",
    "# BAT_SIZE, WIN, WIN, CHANNELS\n",
    "arr = np.zeros((2, 4, 4, 3))\n",
    "\n",
    "ind = 1\n",
    "W, X, Y, Z = arr.shape\n",
    "for w in range(W):\n",
    "    ind=1\n",
    "    for x in range(X):\n",
    "        for y in range(Y):\n",
    "            for z in range(Z):\n",
    "                arr[w, x, y, z] = ind\n",
    "                ind += 1\n",
    "\n",
    "# arr = arr.reshape((4, 4, 3))\n",
    "print(arr.shape)\n",
    "arr"
   ]
  },
  {
   "cell_type": "code",
   "execution_count": null,
   "metadata": {
    "vscode": {
     "languageId": "plaintext"
    }
   },
   "outputs": [],
   "source": [
    "\n",
    "# GENERATING FILTERS\n",
    "# FILTER_NUM, KERNEL, KERNEL, CHANNELS\n",
    "filt = np.zeros((2, 2, 2, 2))\n",
    "\n",
    "ind = 0\n",
    "W, X, Y, Z = filt.shape\n",
    "for w in range(W):\n",
    "    for x in range(X):\n",
    "        ind = 1\n",
    "        for y in range(Y):\n",
    "            ind += 1\n",
    "            for z in range(Z):\n",
    "                filt[w, x, y, z] = ind\n",
    "\n",
    "# filt = filt.reshape((2, 2, 2))\n",
    "print(filt.shape)\n",
    "filt"
   ]
  },
  {
   "cell_type": "code",
   "execution_count": null,
   "metadata": {
    "vscode": {
     "languageId": "plaintext"
    }
   },
   "outputs": [],
   "source": [
    "def transconv_valid(input_arr, filters):\n",
    "    # Function used to get the previous layer activations derivatives\n",
    "    bat, _, inp_win, num_filt = input_arr.shape\n",
    "    num_filt, _, kernel, channels = filters.shape\n",
    "\n",
    "    out_win = inp_win + kernel - 1\n",
    "    output = np.zeros((bat, out_win, out_win, channels), dtype = np.float32)\n",
    "\n",
    "    for data in range(bat):\n",
    "        for filt in range(num_filt):\n",
    "            for row in range(inp_win):\n",
    "                for col in range(inp_win):\n",
    "                    output[data, row:kernel+row, col:kernel+col, :] += filters[filt, :, :, :]*input_arr[data, row, col, filt]\n",
    "    return output\n",
    "\n",
    "transconv_valid(filt, arr)"
   ]
  },
  {
   "cell_type": "code",
   "execution_count": null,
   "metadata": {
    "vscode": {
     "languageId": "plaintext"
    }
   },
   "outputs": [],
   "source": [
    "bat_size, win_size, _, in_channels = arr.shape\n",
    "kernel = 2\n",
    "\n",
    "Wq = np.random.randn(in_channels, kernel)*0.01\n",
    "Wk = np.random.randn(in_channels, kernel)*0.01\n",
    "Wv = np.random.randn(in_channels, kernel)*0.01\n",
    "Wo = np.random.randn(kernel, in_channels)*0.01\n",
    "\n",
    "X_flat = arr.reshape((bat_size, win_size**2, in_channels))\n",
    "\n",
    "K = np.matmul(X_flat, Wk)\n",
    "Q = np.matmul(X_flat, Wq)\n",
    "V = np.matmul(X_flat, Wv)\n",
    "\n",
    "\n",
    "Attention = np.matmul(np.matmul(Q, K.transpose((0, 2, 1))), V)          # ``````````````````````````````````````````````````\n",
    "\n",
    "Attention_flat = np.matmul(Attention, Wo)\n",
    "Attention_weights = Attention_flat.reshape((bat_size, win_size, win_size, in_channels))\n",
    "output = X + Attention_weights\n",
    "output"
   ]
  },
  {
   "cell_type": "code",
   "execution_count": null,
   "metadata": {
    "vscode": {
     "languageId": "plaintext"
    }
   },
   "outputs": [],
   "source": [
    "def tranpose_conv_valid(input_arr, filters):\n",
    "    _, inp_win, num_filt = input_arr.shape\n",
    "    num_filt, _, kernel, channels = filters.shape\n",
    "\n",
    "    out_win = inp_win + kernel - 1\n",
    "    output = np.zeros((out_win, out_win, channels), dtype = np.float32)\n",
    "\n",
    "    for filt in range(num_filt):\n",
    "        for row in range(inp_win):\n",
    "            for col in range(inp_win):\n",
    "                output[row:kernel+row, col:kernel+col, :] += filters[filt, :, :, :]*input_arr[row, col, filt]\n",
    "    return output\n",
    "\n",
    "def filter_transconv_valid(input_arr, layer_activations, kernel):\n",
    "    _, inp_win, num_filt = input_arr.shape\n",
    "    lay_win, _, channels = layer_activations.shape\n",
    "\n",
    "    output = np.zeros((num_filt, kernel, kernel, channels), dtype = np.float32)\n",
    "\n",
    "    for filt in range(num_filt):\n",
    "        for row in range(inp_win):\n",
    "            for col in range(inp_win):\n",
    "                output[filt, :, :, :] += layer_activations[row:kernel+row, col:kernel+col, :]*input_arr[row, col, filt]\n",
    "    return output\n",
    "\n",
    "\n",
    "# Broadcasting  need reworking\n",
    "# tran_broad = np.frompyfunc(tranpose_conv_valid, 2, 1)\n",
    "# tran = np.vectorize(tranpose_conv_valid)\n",
    "# tran(arr, filt)"
   ]
  }
 ],
 "metadata": {
  "language_info": {
   "name": "python"
  }
 },
 "nbformat": 4,
 "nbformat_minor": 2
}
